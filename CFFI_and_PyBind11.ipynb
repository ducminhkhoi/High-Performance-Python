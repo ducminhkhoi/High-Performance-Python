{
 "cells": [
  {
   "cell_type": "code",
   "execution_count": 28,
   "metadata": {
    "collapsed": true,
    "deletable": true,
    "editable": true
   },
   "outputs": [],
   "source": [
    "import cffi\n",
    "\n",
    "from cffi import FFI\n",
    "ffi = FFI()\n",
    "ffi.cdef('int fib(int);')\n",
    "C = ffi.verify('int fib(int n) { return n<2?n:fib(n-1)+fib(n-2);}')"
   ]
  },
  {
   "cell_type": "code",
   "execution_count": 29,
   "metadata": {
    "collapsed": false,
    "deletable": true,
    "editable": true
   },
   "outputs": [
    {
     "name": "stdout",
     "output_type": "stream",
     "text": [
      "10 loops, best of 3: 919 ms per loop\n"
     ]
    }
   ],
   "source": [
    "%timeit -n 10 C.fib(40)"
   ]
  },
  {
   "cell_type": "markdown",
   "metadata": {},
   "source": [
    "## PyBind11 + CppImport\n",
    "save the following file to code.cpp"
   ]
  },
  {
   "cell_type": "code",
   "execution_count": null,
   "metadata": {
    "collapsed": true
   },
   "outputs": [],
   "source": [
    "<%\n",
    "cfg['compiler_args'] = ['-std=c++11', '-stdlib=libc++', '-mmacosx-version-min=10.7']\n",
    "setup_pybind11(cfg)\n",
    "%>\n",
    "\n",
    "#include <pybind11/pybind11.h>\n",
    "#include <pybind11/numpy.h>\n",
    "\n",
    "namespace py = pybind11;\n",
    "\n",
    "double fib(int n) {\n",
    "    return  n < 2?n:fib(n-1)+fib(n-2);\n",
    "}\n",
    "\n",
    "PYBIND11_PLUGIN(code) {\n",
    "    pybind11::module m(\"code\", \"auto-compiled c++ extension\");\n",
    "    m.def(\"fib\", fib);\n",
    "    return m.ptr();\n",
    "}"
   ]
  },
  {
   "cell_type": "code",
   "execution_count": 4,
   "metadata": {
    "collapsed": false
   },
   "outputs": [
    {
     "name": "stdout",
     "output_type": "stream",
     "text": [
      "10 loops, best of 3: 782 ms per loop\n"
     ]
    }
   ],
   "source": [
    "import cppimport\n",
    "code = cppimport.imp(\"code\")\n",
    "\n",
    "%timeit -n 10 code.fib(40)"
   ]
  },
  {
   "cell_type": "code",
   "execution_count": 24,
   "metadata": {
    "collapsed": true,
    "deletable": true,
    "editable": true
   },
   "outputs": [],
   "source": [
    "def fib(n):\n",
    "    return n if n < 2 else fib(n-1) + fib(n-2)\n",
    "\n",
    "# dynamic programming\n",
    "hash = [0]*100\n",
    "hash[:2] = [1, 1]\n",
    "\n",
    "def fib3(n):\n",
    "    if n < 2:\n",
    "        return n\n",
    "    else:\n",
    "        if hash[n-2] == 0:\n",
    "            hash[n-2] = fib3(n-1)\n",
    "        if hash[n-3] == 0:\n",
    "            hash[n-3] = fib3(n-2)\n",
    "            \n",
    "        hash[n-1] = hash[n-2] + hash[n-3]\n",
    "        return hash[n-1]"
   ]
  },
  {
   "cell_type": "code",
   "execution_count": 26,
   "metadata": {
    "collapsed": false,
    "deletable": true,
    "editable": true
   },
   "outputs": [
    {
     "name": "stdout",
     "output_type": "stream",
     "text": [
      "10 loops, best of 3: 811 ns per loop\n"
     ]
    }
   ],
   "source": [
    "%timeit -n 10 fib3(40)"
   ]
  },
  {
   "cell_type": "code",
   "execution_count": 6,
   "metadata": {
    "collapsed": false,
    "deletable": true,
    "editable": true
   },
   "outputs": [
    {
     "name": "stdout",
     "output_type": "stream",
     "text": [
      "1 loop, best of 3: 54.8 s per loop\n"
     ]
    }
   ],
   "source": [
    "%timeit -n 1 fib(40)"
   ]
  },
  {
   "cell_type": "code",
   "execution_count": 31,
   "metadata": {
    "collapsed": false,
    "deletable": true,
    "editable": true
   },
   "outputs": [
    {
     "name": "stdout",
     "output_type": "stream",
     "text": [
      "10 loops, best of 3: 1.12 s per loop\n"
     ]
    }
   ],
   "source": [
    "from numba import jit\n",
    "\n",
    "@jit\n",
    "def fib2(n):\n",
    "    return n if n < 2 else fib2(n-1) + fib2(n-2)\n",
    "\n",
    "%timeit -n 10 fib2(40)"
   ]
  },
  {
   "cell_type": "code",
   "execution_count": 30,
   "metadata": {
    "collapsed": false,
    "deletable": true,
    "editable": true
   },
   "outputs": [
    {
     "name": "stdout",
     "output_type": "stream",
     "text": [
      "10 loops, best of 3: 735 ms per loop\n"
     ]
    }
   ],
   "source": [
    "import wrap\n",
    "\n",
    "%timeit -n 10 wrap.fib(40)"
   ]
  },
  {
   "cell_type": "code",
   "execution_count": null,
   "metadata": {
    "collapsed": true,
    "deletable": true,
    "editable": true
   },
   "outputs": [],
   "source": []
  }
 ],
 "metadata": {
  "kernelspec": {
   "display_name": "Python 2",
   "language": "python",
   "name": "python2"
  },
  "language_info": {
   "codemirror_mode": {
    "name": "ipython",
    "version": 2
   },
   "file_extension": ".py",
   "mimetype": "text/x-python",
   "name": "python",
   "nbconvert_exporter": "python",
   "pygments_lexer": "ipython2",
   "version": "2.7.13"
  }
 },
 "nbformat": 4,
 "nbformat_minor": 2
}
