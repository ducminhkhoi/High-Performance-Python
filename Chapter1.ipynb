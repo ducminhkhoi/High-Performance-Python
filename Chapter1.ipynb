{
 "cells": [
  {
   "cell_type": "markdown",
   "metadata": {},
   "source": [
    "# Understanding Performant Python"
   ]
  },
  {
   "cell_type": "code",
   "execution_count": 12,
   "metadata": {
    "collapsed": false
   },
   "outputs": [
    {
     "name": "stdout",
     "output_type": "stream",
     "text": [
      "1000 loops, best of 3: 638 µs per loop\n",
      "The slowest run took 5.88 times longer than the fastest. This could mean that an intermediate result is being cached.\n",
      "100000 loops, best of 3: 2.12 µs per loop\n"
     ]
    }
   ],
   "source": [
    "import math\n",
    "\n",
    "\n",
    "def check_prime(number):\n",
    "    sqrt_number = math.sqrt(number)\n",
    "    number_float = float(number)\n",
    "    for i in range(2, int(sqrt_number) + 1):\n",
    "        if (number_float / i).is_integer():\n",
    "            return False\n",
    "    return True\n",
    "\n",
    "%timeit check_prime(10000019)\n",
    "%timeit check_prime(10000000)"
   ]
  },
  {
   "cell_type": "code",
   "execution_count": 16,
   "metadata": {
    "collapsed": false
   },
   "outputs": [
    {
     "name": "stdout",
     "output_type": "stream",
     "text": [
      "Testing search speed with 1000 items and needle close to the head of the list\n",
      "search_fast time: 1.47721e-06\n",
      "search_slow time: 7.07149e-05\n",
      "Testing search speed with 1000 items and needle close to the tail of the list\n",
      "search_fast time: 9.73137e-05\n",
      "search_slow time: 6.45880e-05\n"
     ]
    }
   ],
   "source": [
    "import timeit\n",
    "\n",
    "\n",
    "def search_fast(haystack, needle):\n",
    "    for item in haystack:\n",
    "        if item == needle:\n",
    "            return True\n",
    "    return False\n",
    "\n",
    "\n",
    "def search_slow(haystack, needle):\n",
    "    return_value = False\n",
    "    for item in haystack:\n",
    "        if item == needle:\n",
    "            return_value = True\n",
    "    return return_value\n",
    "\n",
    "\n",
    "setup = 'from __main__ import (haystack, needle, search_fast, search_slow)'\n",
    "iterations = 10000\n",
    "haystack = range(1000)\n",
    "\n",
    "needle = 5\n",
    "print(\"Testing search speed with {} items and needle \" \\\n",
    "\"close to the head of the list\".format(len(haystack)))\n",
    "\n",
    "t = timeit.timeit(\n",
    "    stmt='search_fast(haystack, needle)',\n",
    "    setup=setup,\n",
    "    number=iterations\n",
    ")\n",
    "print(\"search_fast time: {:.5e}\".format(t / float(iterations)))\n",
    "\n",
    "t = timeit.timeit(\n",
    "    stmt='search_slow(haystack, needle)',\n",
    "    setup=setup,\n",
    "    number=iterations\n",
    ")\n",
    "print(\"search_slow time: {:.5e}\".format(t / float(iterations)))\n",
    "\n",
    "needle = len(haystack) - 10\n",
    "print(\"Testing search speed with {} items and needle \" \\\n",
    "    \"close to the tail of the list\".format(len(haystack)))\n",
    "\n",
    "t = timeit.timeit(\n",
    "    stmt='search_fast(haystack, needle)',\n",
    "    setup=setup,\n",
    "    number=iterations\n",
    ")\n",
    "print(\"search_fast time: {:.5e}\".format(t / float(iterations)))\n",
    "\n",
    "t = timeit.timeit(\n",
    "    stmt='search_slow(haystack, needle)',\n",
    "    setup=setup,\n",
    "    number=iterations\n",
    ")\n",
    "print(\"search_slow time: {:.5e}\".format(t / float(iterations)))"
   ]
  },
  {
   "cell_type": "code",
   "execution_count": null,
   "metadata": {
    "collapsed": true
   },
   "outputs": [],
   "source": []
  }
 ],
 "metadata": {
  "kernelspec": {
   "display_name": "Python 3",
   "language": "python",
   "name": "python3"
  },
  "language_info": {
   "codemirror_mode": {
    "name": "ipython",
    "version": 3
   },
   "file_extension": ".py",
   "mimetype": "text/x-python",
   "name": "python",
   "nbconvert_exporter": "python",
   "pygments_lexer": "ipython3",
   "version": "3.6.0"
  }
 },
 "nbformat": 4,
 "nbformat_minor": 2
}
