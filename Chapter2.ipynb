{
 "cells": [
  {
   "cell_type": "markdown",
   "metadata": {
    "deletable": true,
    "editable": true
   },
   "source": [
    "# Profiling to find Bottlenecks\n",
    "## iPython Profile"
   ]
  },
  {
   "cell_type": "code",
   "execution_count": 15,
   "metadata": {
    "collapsed": false,
    "deletable": true,
    "editable": true
   },
   "outputs": [],
   "source": [
    "# save this function in file foo.py\n",
    "def foo(n):\n",
    "    phrase = 'repeat me'\n",
    "    pmul = phrase * n\n",
    "    pjoi = ''.join([phrase for x in xrange(n)])\n",
    "    pinc = ''\n",
    "    for x in xrange(n):\n",
    "        pinc += phrase\n",
    "    del pmul, pjoi, pinc\n",
    "    \n",
    "from foo import foo\n",
    "%reload_ext line_profiler\n",
    "\n",
    "%load_ext memory_profiler"
   ]
  },
  {
   "cell_type": "markdown",
   "metadata": {
    "deletable": true,
    "editable": true
   },
   "source": [
    "### Time Profile"
   ]
  },
  {
   "cell_type": "code",
   "execution_count": 16,
   "metadata": {
    "collapsed": false,
    "deletable": true,
    "editable": true
   },
   "outputs": [
    {
     "name": "stdout",
     "output_type": "stream",
     "text": [
      "CPU times: user 26.3 ms, sys: 4.33 ms, total: 30.6 ms\n",
      "Wall time: 30.8 ms\n"
     ]
    }
   ],
   "source": [
    "%time foo(100000)"
   ]
  },
  {
   "cell_type": "code",
   "execution_count": 17,
   "metadata": {
    "collapsed": false,
    "deletable": true,
    "editable": true
   },
   "outputs": [
    {
     "name": "stdout",
     "output_type": "stream",
     "text": [
      "10 loops, best of 3: 24.7 ms per loop\n"
     ]
    }
   ],
   "source": [
    "%timeit foo(100000)"
   ]
  },
  {
   "cell_type": "code",
   "execution_count": 19,
   "metadata": {
    "collapsed": false,
    "deletable": true,
    "editable": true
   },
   "outputs": [
    {
     "name": "stdout",
     "output_type": "stream",
     "text": [
      " "
     ]
    }
   ],
   "source": [
    "%prun foo(100000)\n",
    "\n",
    " 4 function calls in 0.063 seconds\n",
    "\n",
    "   Ordered by: internal time\n",
    "\n",
    "   ncalls  tottime  percall  cumtime  percall filename:lineno(function)\n",
    "        1    0.061    0.061    0.063    0.063 foo.py:1(foo)\n",
    "        1    0.002    0.002    0.002    0.002 {method 'join' of 'str' objects}\n",
    "        1    0.000    0.000    0.063    0.063 <string>:1(<module>)\n",
    "        1    0.000    0.000    0.000    0.000 {method 'disable' of '_lsprof.Profiler' objects}"
   ]
  },
  {
   "cell_type": "code",
   "execution_count": 11,
   "metadata": {
    "collapsed": false,
    "deletable": true,
    "editable": true
   },
   "outputs": [],
   "source": [
    "%lprun -f foo foo(100000)\n",
    "\n",
    "Timer unit: 1e-06 s\n",
    "\n",
    "Total time: 0.170241 s\n",
    "File: foo.py\n",
    "Function: foo at line 1\n",
    "\n",
    "Line #      Hits         Time  Per Hit   % Time  Line Contents\n",
    "==============================================================\n",
    "     1                                           def foo(n):\n",
    "     2         1           14     14.0      0.0      phrase = 'repeat me'\n",
    "     3         1         1077   1077.0      0.6      pmul = phrase * n\n",
    "     4    100001        67130      0.7     39.4      pjoi = ''.join([phrase for x in xrange(n)])\n",
    "     5         1            3      3.0      0.0      pinc = ''\n",
    "     6    100001        41873      0.4     24.6      for x in xrange(n):\n",
    "     7    100000        60018      0.6     35.3          pinc += phrase\n",
    "     8         1          126    126.0      0.1      del pmul, pjoi, pinc"
   ]
  },
  {
   "cell_type": "markdown",
   "metadata": {
    "deletable": true,
    "editable": true
   },
   "source": [
    "### Memory Profile"
   ]
  },
  {
   "cell_type": "code",
   "execution_count": null,
   "metadata": {
    "collapsed": false,
    "deletable": true,
    "editable": true
   },
   "outputs": [],
   "source": [
    "%mprun -f foo foo(100000)\n",
    "\n",
    "Filename: foo.py\n",
    "\n",
    "Line #    Mem usage    Increment   Line Contents\n",
    "================================================\n",
    "     1     65.4 MiB      0.0 MiB   def foo(n):\n",
    "     2     65.4 MiB      0.0 MiB       phrase = 'repeat me'\n",
    "     3     65.4 MiB      0.0 MiB       pmul = phrase * n\n",
    "     4     65.4 MiB      0.0 MiB       pjoi = ''.join([phrase for x in xrange(n)])\n",
    "     5     65.2 MiB     -0.2 MiB       pinc = ''\n",
    "     6     70.1 MiB      4.9 MiB       for x in xrange(n):\n",
    "     7     70.1 MiB      0.0 MiB           pinc += phrase\n",
    "     8     67.6 MiB     -2.5 MiB       del pmul, pjoi, pinc"
   ]
  },
  {
   "cell_type": "code",
   "execution_count": 14,
   "metadata": {
    "collapsed": false,
    "deletable": true,
    "editable": true
   },
   "outputs": [
    {
     "name": "stdout",
     "output_type": "stream",
     "text": [
      "peak memory: 68.15 MiB, increment: 0.55 MiB\n"
     ]
    }
   ],
   "source": [
    "%memit foo(100000)"
   ]
  },
  {
   "cell_type": "markdown",
   "metadata": {},
   "source": [
    "## Other methods"
   ]
  },
  {
   "cell_type": "code",
   "execution_count": 5,
   "metadata": {
    "collapsed": false,
    "deletable": true,
    "editable": true
   },
   "outputs": [
    {
     "name": "stdout",
     "output_type": "stream",
     "text": [
      "Length of x: 1000\n",
      "Total elements: 1000000\n",
      "calculate_z_serial_purepython took 14.7274129391 seconds\n"
     ]
    }
   ],
   "source": [
    "\"\"\"Julia set generator with timing decorator\"\"\"\n",
    "import time\n",
    "from functools import wraps\n",
    "\n",
    "# area of complex space to investigate\n",
    "x1, x2, y1, y2 = -1.8, 1.8, -1.8, 1.8\n",
    "c_real, c_imag = -0.62772, -.42193\n",
    "\n",
    "\n",
    "def calculate_z_serial_purepython(maxiter, zs, cs):\n",
    "    \"\"\"Calculate output list using Julia update rule\"\"\"\n",
    "    output = [0] * len(zs)\n",
    "    for i in range(len(zs)):\n",
    "        n = 0\n",
    "        z = zs[i]\n",
    "        c = cs[i]\n",
    "        while abs(z) < 2 and n < maxiter:\n",
    "            z = z * z + c\n",
    "            n += 1\n",
    "        output[i] = n\n",
    "    return output\n",
    "\n",
    "\n",
    "def calc_pure_python(draw_output, desired_width, max_iterations):\n",
    "    \"\"\"Create a list of complex co-ordinates (zs) and complex parameters (cs), build Julia set and display\"\"\"\n",
    "    x_step = (float(x2 - x1) / float(desired_width))\n",
    "    y_step = (float(y1 - y2) / float(desired_width))\n",
    "    x = []\n",
    "    y = []\n",
    "    ycoord = y2\n",
    "    while ycoord > y1:\n",
    "        y.append(ycoord)\n",
    "        ycoord += y_step\n",
    "    xcoord = x1\n",
    "    while xcoord < x2:\n",
    "        x.append(xcoord)\n",
    "        xcoord += x_step\n",
    "    # build a list of co-ordinates and the initial condition for each cell.\n",
    "    # Note that our initial condition is a constant and could easily be removed,\n",
    "    # we use it to simulate a real-world scenario with several inputs to our\n",
    "    # function\n",
    "    zs = []\n",
    "    cs = []\n",
    "    for ycoord in y:\n",
    "        for xcoord in x:\n",
    "            zs.append(complex(xcoord, ycoord))\n",
    "            cs.append(complex(c_real, c_imag))\n",
    "\n",
    "    print \"Length of x:\", len(x)\n",
    "    print \"Total elements:\", len(zs)\n",
    "    start_time = time.time()\n",
    "    output = calculate_z_serial_purepython(max_iterations, zs, cs)\n",
    "    end_time = time.time()\n",
    "    secs = end_time - start_time\n",
    "    print calculate_z_serial_purepython.func_name + \" took\", secs, \"seconds\"\n",
    "\n",
    "    # this sum is expected for 1000^2 grid with 300 iterations\n",
    "    assert sum(output) == 33219980\n",
    "\n",
    "\n",
    "# Calculate the Julia set using a pure Python solution with\n",
    "# reasonable defaults for a laptop\n",
    "# set draw_output to True to use PIL to draw an image\n",
    "calc_pure_python(draw_output=False, desired_width=1000, max_iterations=300)"
   ]
  },
  {
   "cell_type": "markdown",
   "metadata": {
    "deletable": true,
    "editable": true
   },
   "source": [
    "## Using cProfiles\n",
    "\n",
    "Copy above cell to a file name test_cpu_time.py\n",
    "run it in terminal by this command: *python -m cProfile -o profile.stats test_cpu_time.py*"
   ]
  },
  {
   "cell_type": "code",
   "execution_count": 6,
   "metadata": {
    "collapsed": false,
    "deletable": true,
    "editable": true
   },
   "outputs": [
    {
     "name": "stdout",
     "output_type": "stream",
     "text": [
      "Wed Mar 22 16:04:50 2017    profile.stats\n",
      "\n",
      "         36221992 function calls in 22.007 seconds\n",
      "\n",
      "   Random listing order was used\n",
      "\n",
      "   ncalls  tottime  percall  cumtime  percall filename:lineno(function)\n",
      "  2002000    0.192    0.000    0.192    0.000 {method 'append' of 'list' objects}\n",
      "        2    0.000    0.000    0.000    0.000 {time.time}\n",
      "        1    0.059    0.059   22.007   22.007 test_cpu_time.py:1(<module>)\n",
      "        4    0.000    0.000    0.000    0.000 {len}\n",
      "        1    1.246    1.246   21.948   21.948 test_cpu_time.py:24(calc_pure_python)\n",
      " 34219980    3.692    0.000    3.692    0.000 {abs}\n",
      "        1    0.007    0.007    0.007    0.007 {sum}\n",
      "        1   16.739   16.739   20.503   20.503 test_cpu_time.py:10(calculate_z_serial_purepython)\n",
      "        1    0.000    0.000    0.000    0.000 {method 'disable' of '_lsprof.Profiler' objects}\n",
      "        1    0.073    0.073    0.073    0.073 {range}\n",
      "\n",
      "\n"
     ]
    },
    {
     "data": {
      "text/plain": [
       "<pstats.Stats instance at 0x115d2eb00>"
      ]
     },
     "execution_count": 6,
     "metadata": {},
     "output_type": "execute_result"
    }
   ],
   "source": [
    "import pstats\n",
    "p = pstats.Stats(\"profile.stats\")\n",
    "p.print_stats()"
   ]
  },
  {
   "cell_type": "code",
   "execution_count": 7,
   "metadata": {
    "collapsed": false,
    "deletable": true,
    "editable": true
   },
   "outputs": [
    {
     "name": "stdout",
     "output_type": "stream",
     "text": [
      "   Random listing order was used\n",
      "\n",
      "Function                                            was called by...\n",
      "                                                        ncalls  tottime  cumtime\n",
      "{method 'append' of 'list' objects}                 <- 2002000    0.192    0.192  test_cpu_time.py:24(calc_pure_python)\n",
      "{time.time}                                         <-       2    0.000    0.000  test_cpu_time.py:24(calc_pure_python)\n",
      "test_cpu_time.py:1(<module>)                        <-\n",
      "{len}                                               <-       2    0.000    0.000  test_cpu_time.py:10(calculate_z_serial_purepython)\n",
      "                                                             2    0.000    0.000  test_cpu_time.py:24(calc_pure_python)\n",
      "test_cpu_time.py:24(calc_pure_python)               <-       1    1.246   21.948  test_cpu_time.py:1(<module>)\n",
      "{abs}                                               <- 34219980    3.692    3.692  test_cpu_time.py:10(calculate_z_serial_purepython)\n",
      "{sum}                                               <-       1    0.007    0.007  test_cpu_time.py:24(calc_pure_python)\n",
      "test_cpu_time.py:10(calculate_z_serial_purepython)  <-       1   16.739   20.503  test_cpu_time.py:24(calc_pure_python)\n",
      "{method 'disable' of '_lsprof.Profiler' objects}    <-\n",
      "{range}                                             <-       1    0.073    0.073  test_cpu_time.py:10(calculate_z_serial_purepython)\n",
      "\n",
      "\n"
     ]
    },
    {
     "data": {
      "text/plain": [
       "<pstats.Stats instance at 0x115d2eb00>"
      ]
     },
     "execution_count": 7,
     "metadata": {},
     "output_type": "execute_result"
    }
   ],
   "source": [
    "p.print_callers()"
   ]
  },
  {
   "cell_type": "code",
   "execution_count": 8,
   "metadata": {
    "collapsed": false,
    "deletable": true,
    "editable": true
   },
   "outputs": [
    {
     "name": "stdout",
     "output_type": "stream",
     "text": [
      "   Random listing order was used\n",
      "\n",
      "Function                                            called...\n",
      "                                                        ncalls  tottime  cumtime\n",
      "{method 'append' of 'list' objects}                 ->\n",
      "{time.time}                                         ->\n",
      "test_cpu_time.py:1(<module>)                        ->       1    1.246   21.948  test_cpu_time.py:24(calc_pure_python)\n",
      "{len}                                               ->\n",
      "test_cpu_time.py:24(calc_pure_python)               ->       1   16.739   20.503  test_cpu_time.py:10(calculate_z_serial_purepython)\n",
      "                                                             2    0.000    0.000  {len}\n",
      "                                                       2002000    0.192    0.192  {method 'append' of 'list' objects}\n",
      "                                                             1    0.007    0.007  {sum}\n",
      "                                                             2    0.000    0.000  {time.time}\n",
      "{abs}                                               ->\n",
      "{sum}                                               ->\n",
      "test_cpu_time.py:10(calculate_z_serial_purepython)  -> 34219980    3.692    3.692  {abs}\n",
      "                                                             2    0.000    0.000  {len}\n",
      "                                                             1    0.073    0.073  {range}\n",
      "{method 'disable' of '_lsprof.Profiler' objects}    ->\n",
      "{range}                                             ->\n",
      "\n",
      "\n"
     ]
    },
    {
     "data": {
      "text/plain": [
       "<pstats.Stats instance at 0x115d2eb00>"
      ]
     },
     "execution_count": 8,
     "metadata": {},
     "output_type": "execute_result"
    }
   ],
   "source": [
    "p.print_callees()"
   ]
  },
  {
   "cell_type": "markdown",
   "metadata": {
    "deletable": true,
    "editable": true
   },
   "source": [
    "## Using line_profiler for CPU profile line by line\n",
    "- run this command to install line_profiler: *pip install line_profiler*\n",
    "- run this command to profile cpu time: *kernprof -l -v test_cpu_time.py*\n"
   ]
  },
  {
   "cell_type": "code",
   "execution_count": null,
   "metadata": {
    "collapsed": true,
    "deletable": true,
    "editable": true
   },
   "outputs": [],
   "source": [
    "Length of x: 1000\n",
    "Total elements: 1000000\n",
    "calculate_z_serial_purepython took 144.420880079 seconds\n",
    "Wrote profile results to test_cpu_time.py.lprof\n",
    "Timer unit: 1e-06 s\n",
    "\n",
    "Total time: 84.8698 s\n",
    "File: test_cpu_time.py\n",
    "Function: calculate_z_serial_purepython at line 9\n",
    "\n",
    "Line #      Hits         Time  Per Hit   % Time  Line Contents\n",
    "==============================================================\n",
    "     9                                           @profile\n",
    "    10                                           def calculate_z_serial_purepython(maxiter, zs, cs):\n",
    "    11                                               \"\"\"Calculate output list using Julia update rule\"\"\"\n",
    "    12         1         9095   9095.0      0.0      output = [0] * len(zs)\n",
    "    13   1000001       864289      0.9      1.0      for i in range(len(zs)):\n",
    "    14   1000000       630460      0.6      0.7          n = 0\n",
    "    15   1000000       826833      0.8      1.0          z = zs[i]\n",
    "    16   1000000       825526      0.8      1.0          c = cs[i]\n",
    "    17  34219980     31922079      0.9     37.6          while n < maxiter and abs(z) < 2:\n",
    "    18  33219980     26003446      0.8     30.6              z = z * z + c\n",
    "    19  33219980     22857267      0.7     26.9              n += 1\n",
    "    20   1000000       930844      0.9      1.1          output[i] = n\n",
    "    21         1            9      9.0      0.0      return output"
   ]
  },
  {
   "cell_type": "markdown",
   "metadata": {
    "deletable": true,
    "editable": true
   },
   "source": [
    "## Using memory_profiler for RAM profiler\n",
    "This run 10x - 100x slower than line_profiler, so install additional library to speed up. So use it sometimes\n",
    "- run this command to install psutil: *pip install psutil*\n",
    "- run this command to install memory_profiler: *pip install memory_profiler*\n",
    "- run this command to profile memory: *python -m memory_profiler test_cpu_time.py*"
   ]
  },
  {
   "cell_type": "code",
   "execution_count": null,
   "metadata": {
    "collapsed": false,
    "deletable": true,
    "editable": true
   },
   "outputs": [],
   "source": [
    "Filename: test_cpu_time.py\n",
    "\n",
    "Line #    Mem usage    Increment   Line Contents\n",
    "================================================\n",
    "     9   89.531 MiB    0.000 MiB   @profile\n",
    "    10                             def calculate_z_serial_purepython(maxiter, zs, cs):\n",
    "    11                                 \"\"\"Calculate output list using Julia update rule\"\"\"\n",
    "    12   97.164 MiB    7.633 MiB       output = [0] * len(zs)\n",
    "    13  145.633 MiB   48.469 MiB       for i in range(len(zs)):\n",
    "    14  145.633 MiB    0.000 MiB           n = maxiter\n",
    "    15  145.633 MiB    0.000 MiB           z = zs[i]\n",
    "    16  145.633 MiB    0.000 MiB           c = cs[i]\n",
    "    17  145.633 MiB    0.000 MiB           while n > 0 and abs(z) < 2:\n",
    "    18  145.633 MiB    0.000 MiB               z = z * z + c\n",
    "    19  145.633 MiB    0.000 MiB               n -= 1\n",
    "    20  145.633 MiB    0.000 MiB           output[i] = n\n",
    "    21  138.000 MiB   -7.633 MiB       return output\n"
   ]
  },
  {
   "cell_type": "code",
   "execution_count": null,
   "metadata": {
    "collapsed": true,
    "deletable": true,
    "editable": true
   },
   "outputs": [],
   "source": []
  }
 ],
 "metadata": {
  "kernelspec": {
   "display_name": "Python 2",
   "language": "python",
   "name": "python2"
  },
  "language_info": {
   "codemirror_mode": {
    "name": "ipython",
    "version": 2
   },
   "file_extension": ".py",
   "mimetype": "text/x-python",
   "name": "python",
   "nbconvert_exporter": "python",
   "pygments_lexer": "ipython2",
   "version": "2.7.13"
  }
 },
 "nbformat": 4,
 "nbformat_minor": 2
}
