{
 "cells": [
  {
   "cell_type": "code",
   "execution_count": 35,
   "metadata": {
    "collapsed": false
   },
   "outputs": [
    {
     "name": "stdout",
     "output_type": "stream",
     "text": [
      "Once deleted, variables cannot be recovered. Proceed (y/[n])? y\n",
      "1 loop, best of 3: 519 ms per loop\n"
     ]
    }
   ],
   "source": [
    "%timeit for i in range(1, 10000000): pass"
   ]
  },
  {
   "cell_type": "code",
   "execution_count": 2,
   "metadata": {
    "collapsed": false
   },
   "outputs": [
    {
     "name": "stdout",
     "output_type": "stream",
     "text": [
      "1 loop, best of 3: 234 ms per loop\n"
     ]
    }
   ],
   "source": [
    "%timeit for i in xrange(1, 10000000): pass"
   ]
  },
  {
   "cell_type": "code",
   "execution_count": 37,
   "metadata": {
    "collapsed": false
   },
   "outputs": [
    {
     "name": "stdout",
     "output_type": "stream",
     "text": [
      "1 loop, best of 3: 1.06 s per loop\n"
     ]
    }
   ],
   "source": [
    "numbers = xrange(10000000)\n",
    "%timeit len([n for n in numbers if n % 3 == 0])"
   ]
  },
  {
   "cell_type": "code",
   "execution_count": 38,
   "metadata": {
    "collapsed": false
   },
   "outputs": [
    {
     "name": "stdout",
     "output_type": "stream",
     "text": [
      "peak memory: 250.77 MiB, increment: 25.26 MiB\n"
     ]
    }
   ],
   "source": [
    "%memit -r 5 len([n for n in numbers if n % 3 == 0])"
   ]
  },
  {
   "cell_type": "code",
   "execution_count": 9,
   "metadata": {
    "collapsed": false
   },
   "outputs": [
    {
     "name": "stdout",
     "output_type": "stream",
     "text": [
      "1 loop, best of 3: 1.08 s per loop\n",
      "3333334\n"
     ]
    }
   ],
   "source": [
    "%timeit sum(1 for n in numbers if n % 3 == 0)"
   ]
  },
  {
   "cell_type": "code",
   "execution_count": 39,
   "metadata": {
    "collapsed": false
   },
   "outputs": [
    {
     "name": "stdout",
     "output_type": "stream",
     "text": [
      "peak memory: 225.51 MiB, increment: 0.00 MiB\n"
     ]
    }
   ],
   "source": [
    "%memit -r 5 sum(1 for n in numbers if n % 3 == 0)"
   ]
  },
  {
   "cell_type": "code",
   "execution_count": 17,
   "metadata": {
    "collapsed": false
   },
   "outputs": [
    {
     "name": "stdout",
     "output_type": "stream",
     "text": [
      "divisible_by_three_list with 10000000 entries took 1.68108801842 seconds and used 26.58203125 MB\n",
      "divisible_by_three_iterator with 10000000 entries took 1.33045396805 seconds and used 0.0 MB\n"
     ]
    }
   ],
   "source": [
    "import timeit\n",
    "import memory_profiler\n",
    "import gc\n",
    "\n",
    "\n",
    "def divisible_by_three_list(numbers):\n",
    "    filtered = [n for n in numbers if n % 3 == 0]\n",
    "    return len(filtered)\n",
    "\n",
    "\n",
    "def divisible_by_three_iterator(numbers):\n",
    "    filtered = (1 for n in numbers if n % 3 == 0)\n",
    "    return sum(filtered)\n",
    "\n",
    "\n",
    "def memory_profile(function, *args, **kwargs):\n",
    "    gc.collect()\n",
    "    baseline = memory_profiler.memory_usage()[0]\n",
    "    max_usage = memory_profiler.memory_usage(\n",
    "        (function, args, kwargs),\n",
    "        max_usage=True,\n",
    "    )\n",
    "    return max_usage[0] - baseline\n",
    "\n",
    "\n",
    "if __name__ == \"__main__\":\n",
    "    numbers = xrange(10000000)\n",
    "    setup = \"from __main__ import (numbers, \" \\\n",
    "            \"divisible_by_three_list, divisible_by_three_iterator)\"\n",
    "    iterations = 5\n",
    "\n",
    "    t = timeit.timeit(\n",
    "        stmt=\"divisible_by_three_list(numbers)\",\n",
    "        setup=setup,\n",
    "        number=iterations,\n",
    "    )\n",
    "    m = memory_profile(divisible_by_three_list, numbers)\n",
    "    print \"divisible_by_three_list with {} entries took \" \\\n",
    "        \"{} seconds and used {} MB\".format(\n",
    "            len(numbers),\n",
    "            t / iterations,\n",
    "            m,\n",
    "        )\n",
    "\n",
    "    t = timeit.timeit(\n",
    "        stmt=\"divisible_by_three_iterator(numbers)\",\n",
    "        setup=setup,\n",
    "        number=iterations,\n",
    "    )\n",
    "    m = memory_profile(divisible_by_three_iterator, numbers)\n",
    "    print \"divisible_by_three_iterator with {} entries took \" \\\n",
    "        \"{} seconds and used {} MB\".format(\n",
    "            len(numbers),\n",
    "            t / iterations,\n",
    "            m,\n",
    "        )"
   ]
  },
  {
   "cell_type": "code",
   "execution_count": 25,
   "metadata": {
    "collapsed": false
   },
   "outputs": [],
   "source": [
    "from itertools import islice\n",
    "\n",
    "\n",
    "def fibonacci():\n",
    "    i, j = 0, 1\n",
    "    while True:\n",
    "        yield j\n",
    "        i, j = j, i + j\n",
    "        \n",
    "def fibonacci_naive():\n",
    "    i, j = 0, 1\n",
    "    count = 0\n",
    "    while j <= 5000:\n",
    "        if j % 2:\n",
    "            count += 1\n",
    "        i, j = j, i + j\n",
    "    return count\n",
    "\n",
    "\n",
    "def fibonacci_generator():\n",
    "    count = 0\n",
    "    for f in fibonacci():\n",
    "        if f > 5000:\n",
    "            break\n",
    "        if f % 2:\n",
    "            count += 1\n",
    "    return count\n",
    "\n",
    "\n",
    "def fibonacci_succinct():\n",
    "    is_odd = lambda x: x % 2\n",
    "    first_5000 = islice(fibonacci(), 0, 5000)\n",
    "    return sum(1 for x in first_5000 if is_odd(x))\n",
    "\n",
    "%load_ext memory_profiler"
   ]
  },
  {
   "cell_type": "code",
   "execution_count": 12,
   "metadata": {
    "collapsed": false
   },
   "outputs": [
    {
     "name": "stdout",
     "output_type": "stream",
     "text": [
      "100000 loops, best of 3: 3.49 µs per loop\n"
     ]
    }
   ],
   "source": [
    "%timeit fibonacci_naive()"
   ]
  },
  {
   "cell_type": "code",
   "execution_count": 13,
   "metadata": {
    "collapsed": false
   },
   "outputs": [
    {
     "name": "stdout",
     "output_type": "stream",
     "text": [
      "100000 loops, best of 3: 6.34 µs per loop\n"
     ]
    }
   ],
   "source": [
    "%timeit fibonacci_generator()"
   ]
  },
  {
   "cell_type": "code",
   "execution_count": 16,
   "metadata": {
    "collapsed": false
   },
   "outputs": [
    {
     "name": "stdout",
     "output_type": "stream",
     "text": [
      "100 loops, best of 3: 7.47 ms per loop\n"
     ]
    }
   ],
   "source": [
    "%timeit fibonacci_succinct()"
   ]
  },
  {
   "cell_type": "code",
   "execution_count": 26,
   "metadata": {
    "collapsed": false
   },
   "outputs": [
    {
     "name": "stdout",
     "output_type": "stream",
     "text": [
      "peak memory: 223.79 MiB, increment: 0.00 MiB\n"
     ]
    }
   ],
   "source": [
    "%memit fibonacci_naive()"
   ]
  },
  {
   "cell_type": "code",
   "execution_count": 27,
   "metadata": {
    "collapsed": false
   },
   "outputs": [
    {
     "name": "stdout",
     "output_type": "stream",
     "text": [
      "peak memory: 223.79 MiB, increment: -0.00 MiB\n"
     ]
    }
   ],
   "source": [
    "%memit fibonacci_generator()"
   ]
  },
  {
   "cell_type": "code",
   "execution_count": 28,
   "metadata": {
    "collapsed": false
   },
   "outputs": [
    {
     "name": "stdout",
     "output_type": "stream",
     "text": [
      "peak memory: 223.79 MiB, increment: 0.00 MiB\n"
     ]
    }
   ],
   "source": [
    "%memit fibonacci_succinct()"
   ]
  },
  {
   "cell_type": "code",
   "execution_count": 23,
   "metadata": {
    "collapsed": false
   },
   "outputs": [
    {
     "name": "stdout",
     "output_type": "stream",
     "text": [
      "Once deleted, variables cannot be recovered. Proceed (y/[n])? y\n",
      "Don't know how to reset  (), please run `%reset?` for details\n"
     ]
    }
   ],
   "source": [
    "%reset()"
   ]
  },
  {
   "cell_type": "code",
   "execution_count": null,
   "metadata": {
    "collapsed": true
   },
   "outputs": [],
   "source": []
  }
 ],
 "metadata": {
  "kernelspec": {
   "display_name": "Python 2",
   "language": "python",
   "name": "python2"
  },
  "language_info": {
   "codemirror_mode": {
    "name": "ipython",
    "version": 2
   },
   "file_extension": ".py",
   "mimetype": "text/x-python",
   "name": "python",
   "nbconvert_exporter": "python",
   "pygments_lexer": "ipython2",
   "version": "2.7.13"
  }
 },
 "nbformat": 4,
 "nbformat_minor": 2
}
