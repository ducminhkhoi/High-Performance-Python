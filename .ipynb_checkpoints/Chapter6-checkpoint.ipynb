{
 "cells": [
  {
   "cell_type": "markdown",
   "metadata": {},
   "source": [
    "# Matrix and vector Computation\n",
    "\n",
    "## Pure Python version\n"
   ]
  },
  {
   "cell_type": "code",
   "execution_count": 2,
   "metadata": {
    "collapsed": false
   },
   "outputs": [
    {
     "data": {
      "text/plain": [
       "0.1433579921722412"
      ]
     },
     "execution_count": 2,
     "metadata": {},
     "output_type": "execute_result"
    }
   ],
   "source": [
    "from __future__ import division\n",
    "import time\n",
    "\n",
    "grid_size = (512, )\n",
    "\n",
    "\n",
    "def laplacian(grid):\n",
    "    lap = [0.0, ] * grid_size[0]\n",
    "    xmax, = grid_size\n",
    "    for i in xrange(grid_size[0]):\n",
    "        grid_xx = grid[(i + 1) % xmax] + grid[(i - 1) % xmax] - 2.0 * grid[i]\n",
    "        lap[i] = grid_xx\n",
    "    return lap\n",
    "\n",
    "\n",
    "def evolve(grid, dt, D=1.0):\n",
    "    lap = laplacian(grid)\n",
    "    for i in xrange(grid_size[0]):\n",
    "        grid[i] += D * lap[i] * dt\n",
    "    return grid\n",
    "\n",
    "\n",
    "def run_experiment(num_iterations):\n",
    "    # setting up initial conditions\n",
    "    grid = [0.0, ] * grid_size[0]\n",
    "\n",
    "    block_low = int(grid_size[0] * .4)\n",
    "    block_high = int(grid_size[0] * .5)\n",
    "    for i in xrange(block_low, block_high):\n",
    "        grid[i] = 0.005\n",
    "\n",
    "    start = time.time()\n",
    "    for i in range(num_iterations):\n",
    "        grid = evolve(grid, 0.1)\n",
    "    return time.time() - start\n",
    "\n",
    "run_experiment(500)"
   ]
  },
  {
   "cell_type": "code",
   "execution_count": null,
   "metadata": {
    "collapsed": true
   },
   "outputs": [],
   "source": []
  }
 ],
 "metadata": {
  "kernelspec": {
   "display_name": "Python 2",
   "language": "python",
   "name": "python2"
  },
  "language_info": {
   "codemirror_mode": {
    "name": "ipython",
    "version": 2
   },
   "file_extension": ".py",
   "mimetype": "text/x-python",
   "name": "python",
   "nbconvert_exporter": "python",
   "pygments_lexer": "ipython2",
   "version": "2.7.13"
  }
 },
 "nbformat": 4,
 "nbformat_minor": 2
}
