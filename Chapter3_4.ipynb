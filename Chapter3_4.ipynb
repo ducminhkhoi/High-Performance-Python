{
 "cells": [
  {
   "cell_type": "markdown",
   "metadata": {
    "deletable": true,
    "editable": true
   },
   "source": [
    "# Lists and Tuples, Dictionaries and Sets\n",
    "\n",
    "For more information about time complexity, look at here: https://wiki.python.org/moin/TimeComplexity"
   ]
  },
  {
   "cell_type": "code",
   "execution_count": 1,
   "metadata": {
    "collapsed": false,
    "deletable": true,
    "editable": true
   },
   "outputs": [
    {
     "name": "stdout",
     "output_type": "stream",
     "text": [
      "The slowest run took 56.35 times longer than the fastest. This could mean that an intermediate result is being cached.\n",
      "10000000 loops, best of 3: 71.9 ns per loop\n"
     ]
    }
   ],
   "source": [
    "l = range(10)\n",
    "%timeit l[5]"
   ]
  },
  {
   "cell_type": "code",
   "execution_count": 3,
   "metadata": {
    "collapsed": false,
    "deletable": true,
    "editable": true
   },
   "outputs": [
    {
     "name": "stdout",
     "output_type": "stream",
     "text": [
      "The slowest run took 29.32 times longer than the fastest. This could mean that an intermediate result is being cached.\n",
      "10000000 loops, best of 3: 73.2 ns per loop\n"
     ]
    }
   ],
   "source": [
    "l = range(100001)\n",
    "%timeit l[100000]"
   ]
  },
  {
   "cell_type": "code",
   "execution_count": null,
   "metadata": {
    "collapsed": false,
    "deletable": true,
    "editable": true
   },
   "outputs": [
    {
     "name": "stdout",
     "output_type": "stream",
     "text": [
      "80072\n",
      "786712\n",
      "80056\n",
      "524520\n",
      "[linear_search] Value 1        found in haystack of size 10000    at index 1        in 1.00e-06 seconds\n",
      "[binary_search] Value 1        found in haystack of size 10000    at index 1        in 4.83e-06 seconds\n",
      "[hash_dict_search] Value 1        found in haystack of size 10000    at index 1        in 1.58e-07 seconds\n",
      "[hash_set_search] Value 1        found in haystack of size 10000    at index 1        in 3.99e-07 seconds\n",
      "[linear_search] Value 6000     found in haystack of size 10000    at index 6000     in 4.69e-04 seconds\n",
      "[binary_search] Value 6000     found in haystack of size 10000    at index 6000     in 5.30e-06 seconds\n",
      "[hash_dict_search] Value 6000     found in haystack of size 10000    at index 6000     in 1.46e-04 seconds\n",
      "[hash_set_search] Value 6000     found in haystack of size 10000    at index 6000     in 1.97e-04 seconds\n",
      "[linear_search] Value 9000     found in haystack of size 10000    at index 9000     in 7.99e-04 seconds\n",
      "[binary_search] Value 9000     found in haystack of size 10000    at index 9000     in 3.80e-06 seconds\n",
      "[hash_dict_search] Value 9000     found in haystack of size 10000    at index 9000     in 1.76e-04 seconds\n",
      "[hash_set_search] Value 9000     found in haystack of size 10000    at index 9000     in 2.30e-04 seconds\n",
      "[linear_search] Value 1000000  found in haystack of size 10000    at index -1       in 8.00e-04 seconds\n",
      "[binary_search] Value 1000000  found in haystack of size 10000    at index -1       in 6.62e-06 seconds\n",
      "[hash_dict_search] Value 1000000  found in haystack of size 10000    at index -1       in 2.35e-04 seconds\n",
      "[hash_set_search] Value 1000000  found in haystack of size 10000    at index -1       in 2.14e-04 seconds\n",
      "800072\n",
      "6291736\n",
      "800056\n",
      "4194536\n",
      "[linear_search] Value 1        found in haystack of size 100000   at index 1        in 6.65e-07 seconds\n",
      "[binary_search] Value 1        found in haystack of size 100000   at index 1        in 3.31e-06 seconds\n",
      "[hash_dict_search] Value 1        found in haystack of size 100000   at index 1        in 1.73e-07 seconds\n",
      "[hash_set_search] Value 1        found in haystack of size 100000   at index 1        in 1.60e-07 seconds\n",
      "[linear_search] Value 6000     found in haystack of size 100000   at index 6000     in 4.76e-04 seconds\n",
      "[binary_search] Value 6000     found in haystack of size 100000   at index 6000     in 7.68e-06 seconds\n",
      "[hash_dict_search] Value 6000     found in haystack of size 100000   at index 6000     in 1.18e-04 seconds\n",
      "[hash_set_search] Value 6000     found in haystack of size 100000   at index 6000     in 1.30e-04 seconds\n",
      "[linear_search] Value 9000     found in haystack of size 100000   at index 9000     in 7.41e-04 seconds\n",
      "[binary_search] Value 9000     found in haystack of size 100000   at index 9000     in 4.68e-06 seconds\n",
      "[hash_dict_search] Value 9000     found in haystack of size 100000   at index 9000     in 1.74e-04 seconds\n",
      "[hash_set_search] Value 9000     found in haystack of size 100000   at index 9000     in 1.79e-04 seconds\n",
      "[linear_search] Value 1000000  found in haystack of size 100000   at index -1       in 9.91e-03 seconds\n",
      "[binary_search] Value 1000000  found in haystack of size 100000   at index -1       in 8.13e-06 seconds\n",
      "[hash_dict_search] Value 1000000  found in haystack of size 100000   at index -1       in 2.46e-03 seconds\n",
      "[hash_set_search] Value 1000000  found in haystack of size 100000   at index -1       in 2.76e-03 seconds\n",
      "8000072\n",
      "50331928\n",
      "8000056\n",
      "33554664\n",
      "[linear_search] Value 1        found in haystack of size 1000000  at index 1        in 9.24e-07 seconds\n",
      "[binary_search] Value 1        found in haystack of size 1000000  at index 1        in 5.77e-06 seconds\n",
      "[hash_dict_search] Value 1        found in haystack of size 1000000  at index 1        in 1.11e-06 seconds\n",
      "[hash_set_search] Value 1        found in haystack of size 1000000  at index 1        in 3.06e-07 seconds\n",
      "[linear_search] Value 6000     found in haystack of size 1000000  at index 6000     in 4.97e-04 seconds\n",
      "[binary_search] Value 6000     found in haystack of size 1000000  at index 6000     in 7.38e-06 seconds\n",
      "[hash_dict_search] Value 6000     found in haystack of size 1000000  at index 6000     in 1.35e-04 seconds\n",
      "[hash_set_search] Value 6000     found in haystack of size 1000000  at index 6000     in 2.70e-04 seconds\n",
      "[linear_search] Value 9000     found in haystack of size 1000000  at index 9000     in 8.19e-04 seconds\n",
      "[binary_search] Value 9000     found in haystack of size 1000000  at index 9000     in 6.89e-06 seconds\n",
      "[hash_dict_search] Value 9000     found in haystack of size 1000000  at index 9000     in 1.94e-04 seconds\n",
      "[hash_set_search] Value 9000     found in haystack of size 1000000  at index 9000     in 2.01e-04 seconds"
     ]
    }
   ],
   "source": [
    "import timeit\n",
    "import sys\n",
    "\n",
    "def linear_search(needle, haystack):\n",
    "    for i, item in enumerate(haystack):\n",
    "        if item == needle:\n",
    "            return i\n",
    "    return -1\n",
    "\n",
    "def binary_search(needle, haystack):\n",
    "    # imin and imax store the bounds of the haystack that we are currently\n",
    "    # considering.  This starts as the bounds of the haystack and slowly\n",
    "    # converges to surround the needle.\n",
    "    imin, imax = 0, len(haystack)\n",
    "    while True:\n",
    "        if imin >= imax:\n",
    "            return -1\n",
    "        midpoint = (imin + imax) // 2\n",
    "        if haystack[midpoint] > needle:\n",
    "            imax = midpoint\n",
    "        elif haystack[midpoint] < needle:\n",
    "            imin = midpoint + 1\n",
    "        else:\n",
    "            return midpoint\n",
    "\n",
    "def hash_dict_search(needle, haystack):\n",
    "    return needle if needle in haystack else -1\n",
    "\n",
    "def hash_set_search(needle, haystack):\n",
    "    return needle if needle in haystack else -1\n",
    "    \n",
    "def time_and_log(function, needle, haystack):\n",
    "    index = function(needle, haystack)\n",
    "    t = timeit.timeit(\n",
    "        stmt='{}(needle, haystack)'.format(function.func_name),\n",
    "        setup=setup,\n",
    "        number=iterations\n",
    "    )\n",
    "    print \"[{}] Value {: <8} found in haystack of size {: <8} at index \" \\\n",
    "        \"{: <8} in {:.2e} seconds\".format(\n",
    "            function.func_name,\n",
    "            needle,\n",
    "            len(haystack),\n",
    "            index,\n",
    "            t / iterations\n",
    "        )\n",
    "\n",
    "if __name__ == \"__main__\":\n",
    "    setup = \"from __main__ import \" \\\n",
    "            \"(binary_search, linear_search, hash_dict_search, hash_set_search, haystack, needle)\"\n",
    "    iterations = 1000\n",
    "\n",
    "    for haystack_size in (10000, 100000, 1000000):\n",
    "        haystack = range(haystack_size) # list version\n",
    "        haystack1 = {k: v for v, k in enumerate(haystack)} # dictionary version\n",
    "        haystack2 = tuple(haystack) # tuple version\n",
    "        haystack3 = set(haystack) # set version\n",
    "        print(sys.getsizeof(haystack))\n",
    "        print(sys.getsizeof(haystack1))\n",
    "        print(sys.getsizeof(haystack2))\n",
    "        print(sys.getsizeof(haystack3))\n",
    "        \n",
    "        for needle in (1, 6000, 9000, 1000000):\n",
    "            time_and_log(linear_search, needle, haystack)\n",
    "            time_and_log(binary_search, needle, haystack)\n",
    "            time_and_log(hash_dict_search, needle, haystack1)\n",
    "            time_and_log(hash_set_search, needle, haystack3)"
   ]
  },
  {
   "cell_type": "markdown",
   "metadata": {
    "deletable": true,
    "editable": true
   },
   "source": [
    "## List vs Tuples"
   ]
  },
  {
   "cell_type": "code",
   "execution_count": 8,
   "metadata": {
    "collapsed": false,
    "deletable": true,
    "editable": true
   },
   "outputs": [
    {
     "name": "stdout",
     "output_type": "stream",
     "text": [
      "1000000 loops, best of 3: 263 ns per loop\n"
     ]
    }
   ],
   "source": [
    "%timeit l = [0,1,2,3,4,5,6,7,8,9]"
   ]
  },
  {
   "cell_type": "code",
   "execution_count": 10,
   "metadata": {
    "collapsed": false,
    "deletable": true,
    "editable": true
   },
   "outputs": [
    {
     "name": "stdout",
     "output_type": "stream",
     "text": [
      "10000000 loops, best of 3: 34 ns per loop\n"
     ]
    }
   ],
   "source": [
    "%timeit t = (0,1,2,3,4,5,6,7,8,9)"
   ]
  },
  {
   "cell_type": "code",
   "execution_count": 8,
   "metadata": {
    "collapsed": false,
    "deletable": true,
    "editable": true
   },
   "outputs": [
    {
     "name": "stdout",
     "output_type": "stream",
     "text": [
      "peak memory: 40.62 MiB, increment: 0.03 MiB\n"
     ]
    },
    {
     "data": {
      "text/plain": [
       "152"
      ]
     },
     "execution_count": 8,
     "metadata": {},
     "output_type": "execute_result"
    }
   ],
   "source": [
    "%load_ext memory_profiler\n",
    "import sys\n",
    "%memit t = [0,1,2,3,4,5,6,7,8,9]\n",
    "sys.getsizeof(t)"
   ]
  },
  {
   "cell_type": "code",
   "execution_count": 9,
   "metadata": {
    "collapsed": false,
    "deletable": true,
    "editable": true
   },
   "outputs": [
    {
     "name": "stdout",
     "output_type": "stream",
     "text": [
      "peak memory: 40.65 MiB, increment: 0.02 MiB\n"
     ]
    },
    {
     "data": {
      "text/plain": [
       "136"
      ]
     },
     "execution_count": 9,
     "metadata": {},
     "output_type": "execute_result"
    }
   ],
   "source": [
    "%memit t = (0,1,2,3,4,5,6,7,8,9)\n",
    "sys.getsizeof(t)"
   ]
  },
  {
   "cell_type": "code",
   "execution_count": 10,
   "metadata": {
    "collapsed": false,
    "deletable": true,
    "editable": true
   },
   "outputs": [
    {
     "name": "stdout",
     "output_type": "stream",
     "text": [
      "peak memory: 40.66 MiB, increment: 0.00 MiB\n"
     ]
    },
    {
     "data": {
      "text/plain": [
       "136"
      ]
     },
     "execution_count": 10,
     "metadata": {},
     "output_type": "execute_result"
    }
   ],
   "source": [
    "%memit t = {0,1,2,3,4,5,6,7,8,9}\n",
    "sys.getsizeof(t)"
   ]
  },
  {
   "cell_type": "code",
   "execution_count": 11,
   "metadata": {
    "collapsed": false
   },
   "outputs": [
    {
     "name": "stdout",
     "output_type": "stream",
     "text": [
      "peak memory: 40.67 MiB, increment: 0.00 MiB\n"
     ]
    },
    {
     "data": {
      "text/plain": [
       "1048"
      ]
     },
     "execution_count": 11,
     "metadata": {},
     "output_type": "execute_result"
    }
   ],
   "source": [
    "%memit t = {x:x for x in xrange(10)}\n",
    "sys.getsizeof(t)"
   ]
  },
  {
   "cell_type": "code",
   "execution_count": null,
   "metadata": {
    "collapsed": true
   },
   "outputs": [],
   "source": []
  }
 ],
 "metadata": {
  "kernelspec": {
   "display_name": "Python 2",
   "language": "python",
   "name": "python2"
  },
  "language_info": {
   "codemirror_mode": {
    "name": "ipython",
    "version": 2
   },
   "file_extension": ".py",
   "mimetype": "text/x-python",
   "name": "python",
   "nbconvert_exporter": "python",
   "pygments_lexer": "ipython2",
   "version": "2.7.13"
  }
 },
 "nbformat": 4,
 "nbformat_minor": 2
}
