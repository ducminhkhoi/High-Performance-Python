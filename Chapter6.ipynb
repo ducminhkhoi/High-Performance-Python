{
 "cells": [
  {
   "cell_type": "markdown",
   "metadata": {},
   "source": [
    "# Matrix and vector Computation\n",
    "\n",
    "## Pure Python version\n"
   ]
  },
  {
   "cell_type": "code",
   "execution_count": 35,
   "metadata": {
    "collapsed": true
   },
   "outputs": [],
   "source": [
    "def run_experiment(experiment, iterations, label, baseline=None):\n",
    "    try:\n",
    "        t = experiment.run_experiment(nruns)\n",
    "        extra_runs = max(int(30 / t) - 1, 2)\n",
    "        for i in xrange(extra_runs):\n",
    "            test = experiment.run_experiment(nruns)\n",
    "            t = min(t, test)\n",
    "    except Exception as e:\n",
    "        print \"Could not run: %s: %s\" % (label, e)\n",
    "        raise\n",
    "\n",
    "    speedup_label = ''\n",
    "    if baseline:\n",
    "        speedup_label = \"[%0.2fx speedup]\" % (baseline / t)\n",
    "    _format = (label, t, t / float(nruns), speedup_label)\n",
    "    print \"%s: %0.2fs (%es per iteration)%s\" % _format\n",
    "    return t, (baseline or 0) / t\n",
    "\n",
    "nruns = 50"
   ]
  },
  {
   "cell_type": "code",
   "execution_count": 40,
   "metadata": {
    "collapsed": false
   },
   "outputs": [],
   "source": [
    "from __future__ import division\n",
    "import time\n",
    "\n",
    "grid_size = (1024, )\n",
    "\n",
    "class diffusion_python():\n",
    "    \n",
    "    @staticmethod\n",
    "    def laplacian(grid):\n",
    "        lap = [0.0, ] * grid_size[0]\n",
    "        xmax, = grid_size\n",
    "        for i in xrange(grid_size[0]):\n",
    "            grid_xx = grid[(i + 1) % xmax] + grid[(i - 1) % xmax] - 2.0 * grid[i]\n",
    "            lap[i] = grid_xx\n",
    "        return lap\n",
    "\n",
    "    @staticmethod\n",
    "    def evolve(grid, dt, D=1.0):\n",
    "        lap = laplacian(grid)\n",
    "        for i in xrange(grid_size[0]):\n",
    "            grid[i] += D * lap[i] * dt\n",
    "        return grid\n",
    "\n",
    "    @staticmethod\n",
    "    def run_experiment(num_iterations):\n",
    "        # setting up initial conditions\n",
    "        grid = [0.0, ] * grid_size[0]\n",
    "\n",
    "        block_low = int(grid_size[0] * .4)\n",
    "        block_high = int(grid_size[0] * .5)\n",
    "        for i in xrange(block_low, block_high):\n",
    "            grid[i] = 0.005\n",
    "\n",
    "        start = time.time()\n",
    "        for i in range(num_iterations):\n",
    "            grid = evolve(grid, 0.1)\n",
    "        return time.time() - start\n"
   ]
  },
  {
   "cell_type": "code",
   "execution_count": 41,
   "metadata": {
    "collapsed": false
   },
   "outputs": [
    {
     "name": "stdout",
     "output_type": "stream",
     "text": [
      "Pure Python: 0.03s (5.367422e-04s per iteration)\n"
     ]
    },
    {
     "data": {
      "text/plain": [
       "(0.02683711051940918, 0.0)"
      ]
     },
     "execution_count": 41,
     "metadata": {},
     "output_type": "execute_result"
    }
   ],
   "source": [
    "run_experiment(diffusion_python, nruns, \"Pure Python\")"
   ]
  },
  {
   "cell_type": "code",
   "execution_count": 27,
   "metadata": {
    "collapsed": true
   },
   "outputs": [],
   "source": [
    "from numpy import (roll, zeros)\n",
    "import time\n",
    "\n",
    "grid_shape = (1024, 1024)\n",
    "\n",
    "\n",
    "class diffusion_numpy:\n",
    "    @staticmethod\n",
    "    def laplacian(grid):\n",
    "        return roll(grid, +1, 0) + roll(grid, -1, 0) + \\\n",
    "            roll(grid, +1, 1) + roll(grid, -1, 1) - 4 * grid\n",
    "\n",
    "    @staticmethod\n",
    "    def evolve(grid, dt, D=1):\n",
    "        return grid + dt * D * laplacian(grid)\n",
    "\n",
    "    @staticmethod\n",
    "    def run_experiment(num_iterations):\n",
    "        grid = zeros(grid_shape)\n",
    "\n",
    "        block_low = int(grid_shape[0] * .4)\n",
    "        block_high = int(grid_shape[0] * .5)\n",
    "        grid[block_low:block_high, block_low:block_high] = 0.005\n",
    "\n",
    "        start = time.time()\n",
    "        for i in range(num_iterations):\n",
    "            grid = evolve(grid, 0.1)\n",
    "        return time.time() - start\n",
    "    "
   ]
  },
  {
   "cell_type": "code",
   "execution_count": 28,
   "metadata": {
    "collapsed": false
   },
   "outputs": [
    {
     "name": "stdout",
     "output_type": "stream",
     "text": [
      "numpy: 0.62s (1.246354e-02s per iteration)\n"
     ]
    },
    {
     "data": {
      "text/plain": [
       "(0.6231770515441895, 0.0)"
      ]
     },
     "execution_count": 28,
     "metadata": {},
     "output_type": "execute_result"
    }
   ],
   "source": [
    "run_experiment(diffusion_numpy, nruns, \"numpy\")"
   ]
  },
  {
   "cell_type": "code",
   "execution_count": null,
   "metadata": {
    "collapsed": true
   },
   "outputs": [],
   "source": []
  }
 ],
 "metadata": {
  "kernelspec": {
   "display_name": "Python 2",
   "language": "python",
   "name": "python2"
  },
  "language_info": {
   "codemirror_mode": {
    "name": "ipython",
    "version": 2
   },
   "file_extension": ".py",
   "mimetype": "text/x-python",
   "name": "python",
   "nbconvert_exporter": "python",
   "pygments_lexer": "ipython2",
   "version": "2.7.13"
  }
 },
 "nbformat": 4,
 "nbformat_minor": 2
}
